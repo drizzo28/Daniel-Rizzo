{
 "cells": [
  {
   "cell_type": "code",
   "execution_count": 50,
   "id": "d4bbb43f",
   "metadata": {},
   "outputs": [],
   "source": [
    "#Librerias a utilizar:"
   ]
  },
  {
   "cell_type": "code",
   "execution_count": 1,
   "id": "7900bd69",
   "metadata": {},
   "outputs": [],
   "source": [
    "import pandas as pd\n",
    "import numpy as np\n",
    "import matplotlib.pyplot as plt\n",
    "import statsmodels.api as sm\n",
    "from sklearn import linear_model\n",
    "from sklearn.linear_model import LinearRegression\n",
    "import scipy.stats as stats"
   ]
  },
  {
   "cell_type": "code",
   "execution_count": 2,
   "id": "19933aad",
   "metadata": {},
   "outputs": [],
   "source": [
    "#Importación de base de datos al código"
   ]
  },
  {
   "cell_type": "code",
   "execution_count": 3,
   "id": "35867447",
   "metadata": {},
   "outputs": [],
   "source": [
    "df = pd.read_csv(\"movies.csv\")"
   ]
  },
  {
   "cell_type": "markdown",
   "id": "8a67f8dd",
   "metadata": {},
   "source": [
    "# 1. Variable de interés y su explicación"
   ]
  },
  {
   "cell_type": "code",
   "execution_count": 4,
   "id": "fabf1603",
   "metadata": {},
   "outputs": [],
   "source": [
    "#Primeros 5 registros de la base de datos y sus respectivas variables:"
   ]
  },
  {
   "cell_type": "code",
   "execution_count": 5,
   "id": "643ac4d3",
   "metadata": {},
   "outputs": [
    {
     "data": {
      "text/html": [
       "<div>\n",
       "<style scoped>\n",
       "    .dataframe tbody tr th:only-of-type {\n",
       "        vertical-align: middle;\n",
       "    }\n",
       "\n",
       "    .dataframe tbody tr th {\n",
       "        vertical-align: top;\n",
       "    }\n",
       "\n",
       "    .dataframe thead th {\n",
       "        text-align: right;\n",
       "    }\n",
       "</style>\n",
       "<table border=\"1\" class=\"dataframe\">\n",
       "  <thead>\n",
       "    <tr style=\"text-align: right;\">\n",
       "      <th></th>\n",
       "      <th>name</th>\n",
       "      <th>rating</th>\n",
       "      <th>genre</th>\n",
       "      <th>year</th>\n",
       "      <th>score</th>\n",
       "      <th>votes</th>\n",
       "      <th>director</th>\n",
       "      <th>writer</th>\n",
       "      <th>star</th>\n",
       "      <th>country</th>\n",
       "      <th>budget</th>\n",
       "      <th>gross</th>\n",
       "      <th>company</th>\n",
       "      <th>runtime</th>\n",
       "    </tr>\n",
       "  </thead>\n",
       "  <tbody>\n",
       "    <tr>\n",
       "      <th>0</th>\n",
       "      <td>The Shining</td>\n",
       "      <td>R</td>\n",
       "      <td>Drama</td>\n",
       "      <td>1980</td>\n",
       "      <td>8.4</td>\n",
       "      <td>927000.0</td>\n",
       "      <td>Stanley Kubrick</td>\n",
       "      <td>Stephen King</td>\n",
       "      <td>Jack Nicholson</td>\n",
       "      <td>United Kingdom</td>\n",
       "      <td>19000000.0</td>\n",
       "      <td>46998772.0</td>\n",
       "      <td>Warner Bros.</td>\n",
       "      <td>146.0</td>\n",
       "    </tr>\n",
       "    <tr>\n",
       "      <th>1</th>\n",
       "      <td>The Blue Lagoon</td>\n",
       "      <td>R</td>\n",
       "      <td>Adventure</td>\n",
       "      <td>1980</td>\n",
       "      <td>5.8</td>\n",
       "      <td>65000.0</td>\n",
       "      <td>Randal Kleiser</td>\n",
       "      <td>Henry De Vere Stacpoole</td>\n",
       "      <td>Brooke Shields</td>\n",
       "      <td>United States</td>\n",
       "      <td>4500000.0</td>\n",
       "      <td>58853106.0</td>\n",
       "      <td>Columbia Pictures</td>\n",
       "      <td>104.0</td>\n",
       "    </tr>\n",
       "    <tr>\n",
       "      <th>2</th>\n",
       "      <td>Star Wars: Episode V - The Empire Strikes Back</td>\n",
       "      <td>PG</td>\n",
       "      <td>Action</td>\n",
       "      <td>1980</td>\n",
       "      <td>8.7</td>\n",
       "      <td>1200000.0</td>\n",
       "      <td>Irvin Kershner</td>\n",
       "      <td>Leigh Brackett</td>\n",
       "      <td>Mark Hamill</td>\n",
       "      <td>United States</td>\n",
       "      <td>18000000.0</td>\n",
       "      <td>538375067.0</td>\n",
       "      <td>Lucasfilm</td>\n",
       "      <td>124.0</td>\n",
       "    </tr>\n",
       "    <tr>\n",
       "      <th>3</th>\n",
       "      <td>Airplane!</td>\n",
       "      <td>PG</td>\n",
       "      <td>Comedy</td>\n",
       "      <td>1980</td>\n",
       "      <td>7.7</td>\n",
       "      <td>221000.0</td>\n",
       "      <td>Jim Abrahams</td>\n",
       "      <td>Jim Abrahams</td>\n",
       "      <td>Robert Hays</td>\n",
       "      <td>United States</td>\n",
       "      <td>3500000.0</td>\n",
       "      <td>83453539.0</td>\n",
       "      <td>Paramount Pictures</td>\n",
       "      <td>88.0</td>\n",
       "    </tr>\n",
       "    <tr>\n",
       "      <th>4</th>\n",
       "      <td>Caddyshack</td>\n",
       "      <td>R</td>\n",
       "      <td>Comedy</td>\n",
       "      <td>1980</td>\n",
       "      <td>7.3</td>\n",
       "      <td>108000.0</td>\n",
       "      <td>Harold Ramis</td>\n",
       "      <td>Brian Doyle-Murray</td>\n",
       "      <td>Chevy Chase</td>\n",
       "      <td>United States</td>\n",
       "      <td>6000000.0</td>\n",
       "      <td>39846344.0</td>\n",
       "      <td>Orion Pictures</td>\n",
       "      <td>98.0</td>\n",
       "    </tr>\n",
       "  </tbody>\n",
       "</table>\n",
       "</div>"
      ],
      "text/plain": [
       "                                             name rating      genre  year  \\\n",
       "0                                     The Shining      R      Drama  1980   \n",
       "1                                 The Blue Lagoon      R  Adventure  1980   \n",
       "2  Star Wars: Episode V - The Empire Strikes Back     PG     Action  1980   \n",
       "3                                       Airplane!     PG     Comedy  1980   \n",
       "4                                      Caddyshack      R     Comedy  1980   \n",
       "\n",
       "   score      votes         director                   writer            star  \\\n",
       "0    8.4   927000.0  Stanley Kubrick             Stephen King  Jack Nicholson   \n",
       "1    5.8    65000.0   Randal Kleiser  Henry De Vere Stacpoole  Brooke Shields   \n",
       "2    8.7  1200000.0   Irvin Kershner           Leigh Brackett     Mark Hamill   \n",
       "3    7.7   221000.0     Jim Abrahams             Jim Abrahams     Robert Hays   \n",
       "4    7.3   108000.0     Harold Ramis       Brian Doyle-Murray     Chevy Chase   \n",
       "\n",
       "          country      budget        gross             company  runtime  \n",
       "0  United Kingdom  19000000.0   46998772.0        Warner Bros.    146.0  \n",
       "1   United States   4500000.0   58853106.0   Columbia Pictures    104.0  \n",
       "2   United States  18000000.0  538375067.0           Lucasfilm    124.0  \n",
       "3   United States   3500000.0   83453539.0  Paramount Pictures     88.0  \n",
       "4   United States   6000000.0   39846344.0      Orion Pictures     98.0  "
      ]
     },
     "execution_count": 5,
     "metadata": {},
     "output_type": "execute_result"
    }
   ],
   "source": [
    "df.head()"
   ]
  },
  {
   "cell_type": "code",
   "execution_count": 6,
   "id": "a5aa7f5d",
   "metadata": {},
   "outputs": [],
   "source": [
    "#Conclusiones:\n",
    "#La variable de interés a pronosticar es \"gross\", lo que se traduce al monto en USD generado de la pelicula registrada.\n",
    "#Con este proyecto se busca generar un modelo de regresión simple en el cual se pueda pronosticar cuanto dinero generará una pelicula basado en sus demás variables."
   ]
  },
  {
   "cell_type": "markdown",
   "id": "20a6ad86",
   "metadata": {},
   "source": [
    "# 2. Información de variables"
   ]
  },
  {
   "cell_type": "code",
   "execution_count": 7,
   "id": "1d3e291b",
   "metadata": {},
   "outputs": [],
   "source": [
    "#Número de registros con información que tiene cada variable"
   ]
  },
  {
   "cell_type": "code",
   "execution_count": 8,
   "id": "98ed9915",
   "metadata": {},
   "outputs": [
    {
     "data": {
      "text/plain": [
       "name        7668\n",
       "rating      7591\n",
       "genre       7668\n",
       "year        7668\n",
       "score       7665\n",
       "votes       7665\n",
       "director    7668\n",
       "writer      7665\n",
       "star        7667\n",
       "country     7665\n",
       "budget      5497\n",
       "gross       7479\n",
       "company     7651\n",
       "runtime     7664\n",
       "dtype: int64"
      ]
     },
     "execution_count": 8,
     "metadata": {},
     "output_type": "execute_result"
    }
   ],
   "source": [
    "df.count()"
   ]
  },
  {
   "cell_type": "code",
   "execution_count": 9,
   "id": "121dcaba",
   "metadata": {},
   "outputs": [],
   "source": [
    "#Tipo de variable de cada variable"
   ]
  },
  {
   "cell_type": "code",
   "execution_count": 10,
   "id": "0465776d",
   "metadata": {},
   "outputs": [
    {
     "data": {
      "text/plain": [
       "name         object\n",
       "rating       object\n",
       "genre        object\n",
       "year          int64\n",
       "score       float64\n",
       "votes       float64\n",
       "director     object\n",
       "writer       object\n",
       "star         object\n",
       "country      object\n",
       "budget      float64\n",
       "gross       float64\n",
       "company      object\n",
       "runtime     float64\n",
       "dtype: object"
      ]
     },
     "execution_count": 10,
     "metadata": {},
     "output_type": "execute_result"
    }
   ],
   "source": [
    "df.dtypes"
   ]
  },
  {
   "cell_type": "code",
   "execution_count": 11,
   "id": "c1cbabd9",
   "metadata": {},
   "outputs": [],
   "source": [
    "#Registros en blanco de cada variable"
   ]
  },
  {
   "cell_type": "code",
   "execution_count": 12,
   "id": "acfe6100",
   "metadata": {},
   "outputs": [
    {
     "data": {
      "text/plain": [
       "name           0\n",
       "rating        77\n",
       "genre          0\n",
       "year           0\n",
       "score          3\n",
       "votes          3\n",
       "director       0\n",
       "writer         3\n",
       "star           1\n",
       "country        3\n",
       "budget      2171\n",
       "gross        189\n",
       "company       17\n",
       "runtime        4\n",
       "dtype: int64"
      ]
     },
     "execution_count": 12,
     "metadata": {},
     "output_type": "execute_result"
    }
   ],
   "source": [
    "df.isna().sum()"
   ]
  },
  {
   "cell_type": "code",
   "execution_count": 13,
   "id": "f9575fd0",
   "metadata": {},
   "outputs": [],
   "source": [
    "#Eliminación de registros en blanco (no son relevantes para el análisis):"
   ]
  },
  {
   "cell_type": "code",
   "execution_count": 14,
   "id": "d802d07c",
   "metadata": {},
   "outputs": [],
   "source": [
    "dflimpio = df.dropna()"
   ]
  },
  {
   "cell_type": "code",
   "execution_count": 15,
   "id": "c492230f",
   "metadata": {},
   "outputs": [],
   "source": [
    "#Nuevo conteo de registros en blanco, ahora la base de datos está LIMPIA."
   ]
  },
  {
   "cell_type": "code",
   "execution_count": 16,
   "id": "f7448b22",
   "metadata": {},
   "outputs": [
    {
     "data": {
      "text/plain": [
       "name        0\n",
       "rating      0\n",
       "genre       0\n",
       "year        0\n",
       "score       0\n",
       "votes       0\n",
       "director    0\n",
       "writer      0\n",
       "star        0\n",
       "country     0\n",
       "budget      0\n",
       "gross       0\n",
       "company     0\n",
       "runtime     0\n",
       "dtype: int64"
      ]
     },
     "execution_count": 16,
     "metadata": {},
     "output_type": "execute_result"
    }
   ],
   "source": [
    "dflimpio.isna().sum()"
   ]
  },
  {
   "cell_type": "code",
   "execution_count": 17,
   "id": "a087b2cf",
   "metadata": {},
   "outputs": [],
   "source": [
    "#Nuevo número de registros de cada variable, notese que ahora todos los valores son iguales."
   ]
  },
  {
   "cell_type": "code",
   "execution_count": 18,
   "id": "2dd25a93",
   "metadata": {},
   "outputs": [
    {
     "data": {
      "text/plain": [
       "name        5421\n",
       "rating      5421\n",
       "genre       5421\n",
       "year        5421\n",
       "score       5421\n",
       "votes       5421\n",
       "director    5421\n",
       "writer      5421\n",
       "star        5421\n",
       "country     5421\n",
       "budget      5421\n",
       "gross       5421\n",
       "company     5421\n",
       "runtime     5421\n",
       "dtype: int64"
      ]
     },
     "execution_count": 18,
     "metadata": {},
     "output_type": "execute_result"
    }
   ],
   "source": [
    "dflimpio.count()"
   ]
  },
  {
   "cell_type": "code",
   "execution_count": 19,
   "id": "c2a4fb2a",
   "metadata": {},
   "outputs": [],
   "source": [
    "#Conclusiones:\n",
    "#Se puede observar que existen 14 variables diferentes dentro de la base de datos, de las cuales 5 son tipo flotante (incluyen decimales), 1 es tipo integer y 8 son variables categóricas (object).\n",
    "#Se tuvo que limpiar la base de datos ya que se encontraban registros en blanco en algunas de las variables.\n",
    "#Al limpiarse los datos se cuenta con 5421 registros de cada variable.\n",
    "#Tenemos diferentes variables de tipo float e integer por lo que se deberá de realizar una prueba de correlación para ver cual tiene una mayor relación con la variable de interés (gross)."
   ]
  },
  {
   "cell_type": "markdown",
   "id": "d73a1ed7",
   "metadata": {},
   "source": [
    "# 3. ¿Qué distribución sigue la variable de interés?"
   ]
  },
  {
   "cell_type": "code",
   "execution_count": 20,
   "id": "d9c8b5ab",
   "metadata": {},
   "outputs": [
    {
     "data": {
      "text/html": [
       "<div>\n",
       "<style scoped>\n",
       "    .dataframe tbody tr th:only-of-type {\n",
       "        vertical-align: middle;\n",
       "    }\n",
       "\n",
       "    .dataframe tbody tr th {\n",
       "        vertical-align: top;\n",
       "    }\n",
       "\n",
       "    .dataframe thead th {\n",
       "        text-align: right;\n",
       "    }\n",
       "</style>\n",
       "<table border=\"1\" class=\"dataframe\">\n",
       "  <thead>\n",
       "    <tr style=\"text-align: right;\">\n",
       "      <th></th>\n",
       "      <th>year</th>\n",
       "      <th>score</th>\n",
       "      <th>votes</th>\n",
       "      <th>budget</th>\n",
       "      <th>gross</th>\n",
       "      <th>runtime</th>\n",
       "    </tr>\n",
       "  </thead>\n",
       "  <tbody>\n",
       "    <tr>\n",
       "      <th>count</th>\n",
       "      <td>7668.000000</td>\n",
       "      <td>7665.000000</td>\n",
       "      <td>7.665000e+03</td>\n",
       "      <td>5.497000e+03</td>\n",
       "      <td>7.479000e+03</td>\n",
       "      <td>7664.000000</td>\n",
       "    </tr>\n",
       "    <tr>\n",
       "      <th>mean</th>\n",
       "      <td>2000.405451</td>\n",
       "      <td>6.390411</td>\n",
       "      <td>8.810850e+04</td>\n",
       "      <td>3.558988e+07</td>\n",
       "      <td>7.850054e+07</td>\n",
       "      <td>107.261613</td>\n",
       "    </tr>\n",
       "    <tr>\n",
       "      <th>std</th>\n",
       "      <td>11.153508</td>\n",
       "      <td>0.968842</td>\n",
       "      <td>1.633238e+05</td>\n",
       "      <td>4.145730e+07</td>\n",
       "      <td>1.657251e+08</td>\n",
       "      <td>18.581247</td>\n",
       "    </tr>\n",
       "    <tr>\n",
       "      <th>min</th>\n",
       "      <td>1980.000000</td>\n",
       "      <td>1.900000</td>\n",
       "      <td>7.000000e+00</td>\n",
       "      <td>3.000000e+03</td>\n",
       "      <td>3.090000e+02</td>\n",
       "      <td>55.000000</td>\n",
       "    </tr>\n",
       "    <tr>\n",
       "      <th>25%</th>\n",
       "      <td>1991.000000</td>\n",
       "      <td>5.800000</td>\n",
       "      <td>9.100000e+03</td>\n",
       "      <td>1.000000e+07</td>\n",
       "      <td>4.532056e+06</td>\n",
       "      <td>95.000000</td>\n",
       "    </tr>\n",
       "    <tr>\n",
       "      <th>50%</th>\n",
       "      <td>2000.000000</td>\n",
       "      <td>6.500000</td>\n",
       "      <td>3.300000e+04</td>\n",
       "      <td>2.050000e+07</td>\n",
       "      <td>2.020576e+07</td>\n",
       "      <td>104.000000</td>\n",
       "    </tr>\n",
       "    <tr>\n",
       "      <th>75%</th>\n",
       "      <td>2010.000000</td>\n",
       "      <td>7.100000</td>\n",
       "      <td>9.300000e+04</td>\n",
       "      <td>4.500000e+07</td>\n",
       "      <td>7.601669e+07</td>\n",
       "      <td>116.000000</td>\n",
       "    </tr>\n",
       "    <tr>\n",
       "      <th>max</th>\n",
       "      <td>2020.000000</td>\n",
       "      <td>9.300000</td>\n",
       "      <td>2.400000e+06</td>\n",
       "      <td>3.560000e+08</td>\n",
       "      <td>2.847246e+09</td>\n",
       "      <td>366.000000</td>\n",
       "    </tr>\n",
       "  </tbody>\n",
       "</table>\n",
       "</div>"
      ],
      "text/plain": [
       "              year        score         votes        budget         gross  \\\n",
       "count  7668.000000  7665.000000  7.665000e+03  5.497000e+03  7.479000e+03   \n",
       "mean   2000.405451     6.390411  8.810850e+04  3.558988e+07  7.850054e+07   \n",
       "std      11.153508     0.968842  1.633238e+05  4.145730e+07  1.657251e+08   \n",
       "min    1980.000000     1.900000  7.000000e+00  3.000000e+03  3.090000e+02   \n",
       "25%    1991.000000     5.800000  9.100000e+03  1.000000e+07  4.532056e+06   \n",
       "50%    2000.000000     6.500000  3.300000e+04  2.050000e+07  2.020576e+07   \n",
       "75%    2010.000000     7.100000  9.300000e+04  4.500000e+07  7.601669e+07   \n",
       "max    2020.000000     9.300000  2.400000e+06  3.560000e+08  2.847246e+09   \n",
       "\n",
       "           runtime  \n",
       "count  7664.000000  \n",
       "mean    107.261613  \n",
       "std      18.581247  \n",
       "min      55.000000  \n",
       "25%      95.000000  \n",
       "50%     104.000000  \n",
       "75%     116.000000  \n",
       "max     366.000000  "
      ]
     },
     "execution_count": 20,
     "metadata": {},
     "output_type": "execute_result"
    }
   ],
   "source": [
    "df.describe(include=[np.number])"
   ]
  },
  {
   "cell_type": "code",
   "execution_count": 21,
   "id": "7781d4b3",
   "metadata": {},
   "outputs": [],
   "source": [
    "#Conclusiones\n",
    "#La variable de interés \"gross\" no tiene un rango establecido ni es limitada, por lo que se define que sus valores pueden variar entre cualquier número positivo."
   ]
  },
  {
   "cell_type": "markdown",
   "id": "c096e4e2",
   "metadata": {},
   "source": [
    "# 4. ¿Qué tipo de distribución sigue la variable de interés?"
   ]
  },
  {
   "cell_type": "code",
   "execution_count": 22,
   "id": "20f75449",
   "metadata": {},
   "outputs": [
    {
     "data": {
      "image/png": "[encoded data removed]",
      "text/plain": [
       "<Figure size 432x288 with 1 Axes>"
      ]
     },
     "metadata": {
      "needs_background": "light"
     },
     "output_type": "display_data"
    }
   ],
   "source": [
    "plt.title('Histograma de variable gross')\n",
    "plt.hist(dflimpio['gross'])\n",
    "plt.grid(True)\n",
    "plt.show()"
   ]
  },
  {
   "cell_type": "code",
   "execution_count": 23,
   "id": "239751c6",
   "metadata": {},
   "outputs": [],
   "source": [
    "#Conclusiones:\n",
    "#Se presenta un gran sesgo hacia la derecha, esto se debe a que la mayoría de las películas tienen un presupuesto entre 0.0 y 0.5 x10^9, con algunas excepciones lleganod hasta 2.5x10^9.\n",
    "#Esto no representa algún problema, ya que es normal debido a que existen algunas superproductoras dentro de la base de datos (Disney, Warner Bros, etc.) lo cual hace que el histograma se vea afectado ya que son una muy pequeña parte del total de registros."
   ]
  },
  {
   "cell_type": "markdown",
   "id": "05825699",
   "metadata": {},
   "source": [
    "# 5. Variable de mayor correlación"
   ]
  },
  {
   "cell_type": "code",
   "execution_count": 24,
   "id": "7b19c380",
   "metadata": {},
   "outputs": [
    {
     "data": {
      "text/html": [
       "<div>\n",
       "<style scoped>\n",
       "    .dataframe tbody tr th:only-of-type {\n",
       "        vertical-align: middle;\n",
       "    }\n",
       "\n",
       "    .dataframe tbody tr th {\n",
       "        vertical-align: top;\n",
       "    }\n",
       "\n",
       "    .dataframe thead th {\n",
       "        text-align: right;\n",
       "    }\n",
       "</style>\n",
       "<table border=\"1\" class=\"dataframe\">\n",
       "  <thead>\n",
       "    <tr style=\"text-align: right;\">\n",
       "      <th></th>\n",
       "      <th>year</th>\n",
       "      <th>score</th>\n",
       "      <th>votes</th>\n",
       "      <th>budget</th>\n",
       "      <th>gross</th>\n",
       "      <th>runtime</th>\n",
       "    </tr>\n",
       "  </thead>\n",
       "  <tbody>\n",
       "    <tr>\n",
       "      <th>year</th>\n",
       "      <td>1.000000</td>\n",
       "      <td>0.056386</td>\n",
       "      <td>0.206021</td>\n",
       "      <td>0.327722</td>\n",
       "      <td>0.274321</td>\n",
       "      <td>0.075077</td>\n",
       "    </tr>\n",
       "    <tr>\n",
       "      <th>score</th>\n",
       "      <td>0.056386</td>\n",
       "      <td>1.000000</td>\n",
       "      <td>0.474256</td>\n",
       "      <td>0.072001</td>\n",
       "      <td>0.222556</td>\n",
       "      <td>0.414068</td>\n",
       "    </tr>\n",
       "    <tr>\n",
       "      <th>votes</th>\n",
       "      <td>0.206021</td>\n",
       "      <td>0.474256</td>\n",
       "      <td>1.000000</td>\n",
       "      <td>0.439675</td>\n",
       "      <td>0.614751</td>\n",
       "      <td>0.352303</td>\n",
       "    </tr>\n",
       "    <tr>\n",
       "      <th>budget</th>\n",
       "      <td>0.327722</td>\n",
       "      <td>0.072001</td>\n",
       "      <td>0.439675</td>\n",
       "      <td>1.000000</td>\n",
       "      <td>0.740247</td>\n",
       "      <td>0.318695</td>\n",
       "    </tr>\n",
       "    <tr>\n",
       "      <th>gross</th>\n",
       "      <td>0.274321</td>\n",
       "      <td>0.222556</td>\n",
       "      <td>0.614751</td>\n",
       "      <td>0.740247</td>\n",
       "      <td>1.000000</td>\n",
       "      <td>0.275796</td>\n",
       "    </tr>\n",
       "    <tr>\n",
       "      <th>runtime</th>\n",
       "      <td>0.075077</td>\n",
       "      <td>0.414068</td>\n",
       "      <td>0.352303</td>\n",
       "      <td>0.318695</td>\n",
       "      <td>0.275796</td>\n",
       "      <td>1.000000</td>\n",
       "    </tr>\n",
       "  </tbody>\n",
       "</table>\n",
       "</div>"
      ],
      "text/plain": [
       "             year     score     votes    budget     gross   runtime\n",
       "year     1.000000  0.056386  0.206021  0.327722  0.274321  0.075077\n",
       "score    0.056386  1.000000  0.474256  0.072001  0.222556  0.414068\n",
       "votes    0.206021  0.474256  1.000000  0.439675  0.614751  0.352303\n",
       "budget   0.327722  0.072001  0.439675  1.000000  0.740247  0.318695\n",
       "gross    0.274321  0.222556  0.614751  0.740247  1.000000  0.275796\n",
       "runtime  0.075077  0.414068  0.352303  0.318695  0.275796  1.000000"
      ]
     },
     "execution_count": 24,
     "metadata": {},
     "output_type": "execute_result"
    }
   ],
   "source": [
    "dflimpio.corr()"
   ]
  },
  {
   "cell_type": "code",
   "execution_count": 25,
   "id": "52a05ba2",
   "metadata": {},
   "outputs": [],
   "source": [
    "#Conclusiones:\n",
    "#Se observa que para la variable gross (variable de interés) se tiene una mayor correlación con budget (corr = 0.74), lo cual de igual forma hace sentido lógico, ya que mientras más se invierta en la producción de una película, más se espera que genere de ingresos.\n",
    "#Se construiría una función de la siguiente manera para el pronostico: gross = B0 + B1 * budget"
   ]
  },
  {
   "cell_type": "markdown",
   "id": "882b7cb0",
   "metadata": {},
   "source": [
    "# 6. Correlación entre variable dependiente e independiente"
   ]
  },
  {
   "cell_type": "code",
   "execution_count": 26,
   "id": "76dad456",
   "metadata": {},
   "outputs": [
    {
     "data": {
      "image/png": "[encoded data removed]",
      "text/plain": [
       "<Figure size 432x432 with 1 Axes>"
      ]
     },
     "metadata": {
      "needs_background": "light"
     },
     "output_type": "display_data"
    }
   ],
   "source": [
    "plt.figure(figsize=(6,6))\n",
    "plt.scatter(x = dflimpio['budget'], y = dflimpio['gross'])\n",
    "plt.xlabel(\"Budget\")\n",
    "plt.ylabel(\"Gross\")\n",
    "plt.title(\"Diagrama de dispersión de budget vs gross\")\n",
    "plt.show()"
   ]
  },
  {
   "cell_type": "code",
   "execution_count": 27,
   "id": "c95da991",
   "metadata": {},
   "outputs": [],
   "source": [
    "#Conclusiones:\n",
    "#Se observa que existe una tendencia creciente entre las variables, por lo que es una correlación positiva. Esto significa que mientras más alto sea el presupuesto de una película más alto serán los ingresos que se generen de la misma."
   ]
  },
  {
   "cell_type": "markdown",
   "id": "21bb21f8",
   "metadata": {},
   "source": [
    "# 7. Valores atípicos budget"
   ]
  },
  {
   "cell_type": "code",
   "execution_count": 28,
   "id": "1993566a",
   "metadata": {},
   "outputs": [
    {
     "data": {
      "image/png": "[encoded data removed]",
      "text/plain": [
       "<Figure size 432x288 with 1 Axes>"
      ]
     },
     "metadata": {
      "needs_background": "light"
     },
     "output_type": "display_data"
    }
   ],
   "source": [
    "plt.boxplot(dflimpio['budget'])\n",
    "plt.show()"
   ]
  },
  {
   "cell_type": "code",
   "execution_count": 29,
   "id": "b711e63f",
   "metadata": {},
   "outputs": [],
   "source": [
    "#Conclusiones:\n",
    "#Se observa que existen una gran cantidad de valores atípicos, sin embargo, al considerar que esta base de datos contiene miles de registros de información de peliculas, tomando en cuenta que son de diferentes países y de diferentes productoras, tiene sentido que se tenga un gran rango de presupuestos.\n",
    "#Además, al sumarle que se obtuvo un valor alto de correlación con la variable se descartan estos valores como atípicos."
   ]
  },
  {
   "cell_type": "markdown",
   "id": "572b4037",
   "metadata": {},
   "source": [
    "# 8. Análisis de regresión"
   ]
  },
  {
   "cell_type": "code",
   "execution_count": 30,
   "id": "5ede83e8",
   "metadata": {},
   "outputs": [],
   "source": [
    "#Correlación de un 74.03%, buena medición, se procede con el análisis"
   ]
  },
  {
   "cell_type": "code",
   "execution_count": 31,
   "id": "b2e2c004",
   "metadata": {},
   "outputs": [
    {
     "name": "stdout",
     "output_type": "stream",
     "text": [
      "                            OLS Regression Results                            \n",
      "==============================================================================\n",
      "Dep. Variable:                  gross   R-squared:                       0.548\n",
      "Model:                            OLS   Adj. R-squared:                  0.548\n",
      "Method:                 Least Squares   F-statistic:                     6569.\n",
      "Date:                Tue, 19 Oct 2021   Prob (F-statistic):               0.00\n",
      "Time:                        20:43:11   Log-Likelihood:            -1.0880e+05\n",
      "No. Observations:                5421   AIC:                         2.176e+05\n",
      "Df Residuals:                    5419   BIC:                         2.176e+05\n",
      "Df Model:                           1                                         \n",
      "Covariance Type:            nonrobust                                         \n",
      "==============================================================================\n",
      "                 coef    std err          t      P>|t|      [0.025      0.975]\n",
      "------------------------------------------------------------------------------\n",
      "Intercept  -1.686e+07   2.26e+06     -7.452      0.000   -2.13e+07   -1.24e+07\n",
      "budget         3.3351      0.041     81.049      0.000       3.254       3.416\n",
      "==============================================================================\n",
      "Omnibus:                     4597.060   Durbin-Watson:                   1.736\n",
      "Prob(Omnibus):                  0.000   Jarque-Bera (JB):           304997.300\n",
      "Skew:                           3.665   Prob(JB):                         0.00\n",
      "Kurtosis:                      39.008   Cond. No.                     7.28e+07\n",
      "==============================================================================\n",
      "\n",
      "Notes:\n",
      "[1] Standard Errors assume that the covariance matrix of the errors is correctly specified.\n",
      "[2] The condition number is large, 7.28e+07. This might indicate that there are\n",
      "strong multicollinearity or other numerical problems.\n"
     ]
    }
   ],
   "source": [
    "budgetgross = dflimpio[['budget','gross']]\n",
    "\n",
    "model_ols = sm.OLS.from_formula(\"gross ~ budget\", data=budgetgross)\n",
    "\n",
    "result = model_ols.fit()\n",
    "\n",
    "print(result.summary())"
   ]
  },
  {
   "cell_type": "code",
   "execution_count": 32,
   "id": "954a79fc",
   "metadata": {},
   "outputs": [],
   "source": [
    "#Conclusiones:\n",
    "#Se observa dentro del análisis de regresión que los parámetros B0 Y B1 son significativos, pues ambos son menores al alfa establecido (0.05), por lo que el modelo indica a ser preciso.\n",
    "#La R cuadrada de igual forma no es ideal, cercana al 55% de aceptación, por lo que se puede considerar aceptable para el modelo.\n",
    "#En cuanto al Durbin-Watson, se tiene un valor un poco menor a 2, lo cual es ideal ya que define que hay evidencia de correlación serial positiva.\n",
    "#En general con este análisis se puede observar que el modelo de predicción es bueno para la variable gross."
   ]
  },
  {
   "cell_type": "markdown",
   "id": "e3c0b7b4",
   "metadata": {},
   "source": [
    "# 9. Grafica de dispersión de observaciones y predicción."
   ]
  },
  {
   "cell_type": "code",
   "execution_count": 33,
   "id": "55a1ce05",
   "metadata": {},
   "outputs": [
    {
     "data": {
      "image/png": "[encoded data removed]",
      "text/plain": [
       "<Figure size 432x288 with 1 Axes>"
      ]
     },
     "metadata": {
      "needs_background": "light"
     },
     "output_type": "display_data"
    }
   ],
   "source": [
    "sm.graphics.plot_fit(result,1, vlines=False);"
   ]
  },
  {
   "cell_type": "code",
   "execution_count": 34,
   "id": "9467da17",
   "metadata": {},
   "outputs": [],
   "source": [
    "#Conclusiones:\n",
    "#Se vuelve a graficar la dispersión entre la variable gross y budget, pero ahora agregando la predicción generada por el modelo siguiendo la formula: -16860000 + 3.3351*budget\n",
    "#Se observa en la gráfica que la predicción sigue la tendencia creciente de la gráfica de dispersión anterior, por lo que se puede utilizar este modelo para predicciones de generación de dinero de una película (gross) basandose en su presupuesto (budget)."
   ]
  },
  {
   "cell_type": "code",
   "execution_count": null,
   "id": "3784ac3e",
   "metadata": {},
   "outputs": [],
   "source": []
  },
  {
   "cell_type": "code",
   "execution_count": null,
   "id": "65b16d53",
   "metadata": {},
   "outputs": [],
   "source": []
  },
  {
   "cell_type": "code",
   "execution_count": null,
   "id": "3b36a0d1",
   "metadata": {},
   "outputs": [],
   "source": []
  }
 ],
 "metadata": {
  "kernelspec": {
   "display_name": "Python 3",
   "language": "python",
   "name": "python3"
  },
  "language_info": {
   "codemirror_mode": {
    "name": "ipython",
    "version": 3
   },
   "file_extension": ".py",
   "mimetype": "text/x-python",
   "name": "python",
   "nbconvert_exporter": "python",
   "pygments_lexer": "ipython3",
   "version": "3.8.8"
  }
 },
 "nbformat": 4,
 "nbformat_minor": 5
}
